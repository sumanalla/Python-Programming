{
 "cells": [
  {
   "cell_type": "code",
   "execution_count": 5,
   "id": "65ce6e73",
   "metadata": {},
   "outputs": [
    {
     "name": "stdout",
     "output_type": "stream",
     "text": [
      "50 fictitious ServiceNow incidents have been generated and saved to 'servicenow_incidents.csv'.\n"
     ]
    }
   ],
   "source": [
    "import csv\n",
    "import random\n",
    "from faker import Faker\n",
    "\n",
    "# Initialize Faker for generating random data\n",
    "fake = Faker()\n",
    "\n",
    "# Define the number of incidents you want to generate\n",
    "num_incidents = 50\n",
    "\n",
    "# Create a list to store incidents\n",
    "incidents = []\n",
    "\n",
    "# Generate fictitious incidents\n",
    "for _ in range(num_incidents):\n",
    "    incident_number = fake.random_int(min=10000, max=99999)\n",
    "    incident_description = fake.sentence()\n",
    "    incident_category = random.choice(['Hardware', 'Software', 'Network', 'Security'])\n",
    "    incident_priority = random.choice(['High', 'Medium', 'Low'])\n",
    "    incident_status = random.choice(['Open', 'In Progress', 'Resolved', 'Closed'])\n",
    "\n",
    "    incident = {\n",
    "        'IncidentNumber': incident_number,\n",
    "        'Description': incident_description,\n",
    "        'Category': incident_category,\n",
    "        'Priority': incident_priority,\n",
    "        'Status': incident_status,\n",
    "    }\n",
    "\n",
    "    incidents.append(incident)\n",
    "\n",
    "# Define the CSV file path\n",
    "csv_file = 'servicenow_incidents.csv'\n",
    "\n",
    "# Write incidents to a CSV file\n",
    "with open(csv_file, mode='w', newline='') as file:\n",
    "    fieldnames = ['IncidentNumber', 'Description', 'Category', 'Priority', 'Status']\n",
    "    writer = csv.DictWriter(file, fieldnames=fieldnames)\n",
    "    \n",
    "    writer.writeheader()\n",
    "    for incident in incidents:\n",
    "        writer.writerow(incident)\n",
    "\n",
    "print(f\"{num_incidents} fictitious ServiceNow incidents have been generated and saved to '{csv_file}'.\")\n"
   ]
  },
  {
   "cell_type": "code",
   "execution_count": null,
   "id": "7b9c6747",
   "metadata": {},
   "outputs": [],
   "source": []
  }
 ],
 "metadata": {
  "kernelspec": {
   "display_name": "Python 3 (ipykernel)",
   "language": "python",
   "name": "python3"
  },
  "language_info": {
   "codemirror_mode": {
    "name": "ipython",
    "version": 3
   },
   "file_extension": ".py",
   "mimetype": "text/x-python",
   "name": "python",
   "nbconvert_exporter": "python",
   "pygments_lexer": "ipython3",
   "version": "3.11.4"
  }
 },
 "nbformat": 4,
 "nbformat_minor": 5
}
